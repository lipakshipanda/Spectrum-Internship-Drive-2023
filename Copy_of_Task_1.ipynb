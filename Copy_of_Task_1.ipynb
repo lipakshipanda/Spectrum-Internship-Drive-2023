{
  "nbformat": 4,
  "nbformat_minor": 0,
  "metadata": {
    "colab": {
      "provenance": [],
      "include_colab_link": true
    },
    "kernelspec": {
      "name": "python3",
      "display_name": "Python 3"
    },
    "language_info": {
      "name": "python"
    }
  },
  "cells": [
    {
      "cell_type": "markdown",
      "metadata": {
        "id": "view-in-github",
        "colab_type": "text"
      },
      "source": [
        "<a href=\"https://colab.research.google.com/github/lipakshipanda/Spectrum-Internship-Drive-2023/blob/main/Copy_of_Task_1.ipynb\" target=\"_parent\"><img src=\"https://colab.research.google.com/assets/colab-badge.svg\" alt=\"Open In Colab\"/></a>"
      ]
    },
    {
      "cell_type": "markdown",
      "source": [
        "# <center>**SPECTRUM INTENSHIP DRIVE 2023.**</center>\n",
        "\n",
        "\n",
        "## <center>**The DS/ML internship of SID 2023.**</center>\n",
        "\n",
        "\n",
        "\n",
        "\n",
        "\n",
        "<center>"
      ],
      "metadata": {
        "id": "hW3AST0cdjG9"
      }
    },
    {
      "cell_type": "markdown",
      "source": [
        "# **TASK-1**\n",
        "\n",
        "\n",
        "\n",
        "\n",
        "\n",
        "##### Run the below cell to download the csvs and files into your colab/jupyter notebook and start working with it. You will be needing all these for completing the task."
      ],
      "metadata": {
        "id": "m8FFrPOgeINi"
      }
    },
    {
      "cell_type": "code",
      "source": [
        "!wget https://raw.githubusercontent.com/Spectrum-CETB/Data-Science-AI/main/Datasets/creditcard.csv\n",
        "!wget https://raw.githubusercontent.com/Spectrum-CETB/Data-Science-AI/main/Datasets/bmi.csv\n",
        "!wget https://raw.githubusercontent.com/Spectrum-CETB/Data-Science-AI/main/Datasets/data.txt"
      ],
      "metadata": {
        "id": "AxnKpsOed8TZ",
        "colab": {
          "base_uri": "https://localhost:8080/"
        },
        "outputId": "49e6cb9b-cf9b-4a6b-a942-364d08569275"
      },
      "execution_count": 1,
      "outputs": [
        {
          "output_type": "stream",
          "name": "stdout",
          "text": [
            "--2023-12-09 06:27:44--  https://raw.githubusercontent.com/Spectrum-CETB/Data-Science-AI/main/Datasets/creditcard.csv\n",
            "Resolving raw.githubusercontent.com (raw.githubusercontent.com)... 185.199.108.133, 185.199.110.133, 185.199.109.133, ...\n",
            "Connecting to raw.githubusercontent.com (raw.githubusercontent.com)|185.199.108.133|:443... connected.\n",
            "HTTP request sent, awaiting response... 200 OK\n",
            "Length: 13782835 (13M) [text/plain]\n",
            "Saving to: ‘creditcard.csv’\n",
            "\n",
            "creditcard.csv      100%[===================>]  13.14M  --.-KB/s    in 0.06s   \n",
            "\n",
            "2023-12-09 06:27:45 (223 MB/s) - ‘creditcard.csv’ saved [13782835/13782835]\n",
            "\n",
            "--2023-12-09 06:27:45--  https://raw.githubusercontent.com/Spectrum-CETB/Data-Science-AI/main/Datasets/bmi.csv\n",
            "Resolving raw.githubusercontent.com (raw.githubusercontent.com)... 185.199.108.133, 185.199.109.133, 185.199.110.133, ...\n",
            "Connecting to raw.githubusercontent.com (raw.githubusercontent.com)|185.199.108.133|:443... connected.\n",
            "HTTP request sent, awaiting response... 200 OK\n",
            "Length: 290 [text/plain]\n",
            "Saving to: ‘bmi.csv’\n",
            "\n",
            "bmi.csv             100%[===================>]     290  --.-KB/s    in 0s      \n",
            "\n",
            "2023-12-09 06:27:45 (20.1 MB/s) - ‘bmi.csv’ saved [290/290]\n",
            "\n",
            "--2023-12-09 06:27:45--  https://raw.githubusercontent.com/Spectrum-CETB/Data-Science-AI/main/Datasets/data.txt\n",
            "Resolving raw.githubusercontent.com (raw.githubusercontent.com)... 185.199.108.133, 185.199.109.133, 185.199.110.133, ...\n",
            "Connecting to raw.githubusercontent.com (raw.githubusercontent.com)|185.199.108.133|:443... connected.\n",
            "HTTP request sent, awaiting response... 200 OK\n",
            "Length: 1357 (1.3K) [text/plain]\n",
            "Saving to: ‘data.txt’\n",
            "\n",
            "data.txt            100%[===================>]   1.33K  --.-KB/s    in 0s      \n",
            "\n",
            "2023-12-09 06:27:45 (110 MB/s) - ‘data.txt’ saved [1357/1357]\n",
            "\n"
          ]
        }
      ]
    },
    {
      "cell_type": "markdown",
      "source": [
        "#### WE WILL BE COVERING 3 MOST IMPORTANT CONCEPTS OF ML IN THIS WEEK.\n",
        "#### 1)PYTHON\n",
        "#### 2)NUMPY\n",
        "#### 3)PANDAS"
      ],
      "metadata": {
        "id": "T2JjTLnrhIcK"
      }
    },
    {
      "cell_type": "markdown",
      "source": [
        "1) Write python code to calculate Mean, Median, Mode, Variance and Standard Deviation of the numbers in the below list without using any libraries."
      ],
      "metadata": {
        "id": "nDpUnIoMhSm5"
      }
    },
    {
      "cell_type": "code",
      "execution_count": 2,
      "metadata": {
        "id": "MJZ5CQ1Fdf_Q",
        "colab": {
          "base_uri": "https://localhost:8080/"
        },
        "outputId": "64eef24d-d495-4076-a983-8cc48e042cd4"
      },
      "outputs": [
        {
          "output_type": "stream",
          "name": "stdout",
          "text": [
            "Mean: 499.38\n",
            "Median: 495.5\n",
            "Mode: [162, 524, 358]\n",
            "Variance: 78991.79559999998\n",
            "Standard Deviation: 281.05479109952915\n"
          ]
        }
      ],
      "source": [
        "numbers = [488, 296, 374, 189, 326, 229,  14, 162, 917, 778, 908, 376, 567,\n",
        "162, 923, 130, 263, 655, 577, 486, 961, 966, 792,  19, 941, 722,\n",
        "286, 191, 138, 704, 481, 230, 437, 592, 244, 885,   7, 524, 514,\n",
        "483,  89, 779, 279, 478, 185, 940, 385,  43, 163, 571, 867, 492,\n",
        "269,  23, 796, 888, 898, 725, 337, 573, 375, 916,  90, 743, 117,\n",
        "742, 944, 358, 547, 975, 499, 469, 721, 665, 639,  70, 612, 338,\n",
        "733, 634, 358, 524, 598, 466, 696, 691, 511, 450, 699,  76, 216,\n",
        "359, 859, 754, 210, 309, 745,  38, 934, 541]\n",
        "\n",
        "\n",
        "# calculating mean, median, mode, variance & standard variance of the given list of numbers\n",
        "mean = sum(numbers) / len(numbers)\n",
        "\n",
        "fig = sorted(numbers)\n",
        "if len(numbers) % 2 == 0:\n",
        "    mid1 = len(numbers) // 2\n",
        "    mid2 = mid1 - 1\n",
        "    median = (fig[mid1] + fig[mid2]) / 2\n",
        "else:\n",
        "    albus = len(numbers) // 2\n",
        "    median = fig[albus]\n",
        "\n",
        "ron = {}\n",
        "for secert in numbers:\n",
        "    ron[secert] = ron.get(secert, 0) + 1\n",
        "mode = [k for k, v in ron.items() if v == max(ron.values())]\n",
        "\n",
        "sqdiff= [(x - mean) ** 2 for x in numbers]\n",
        "variance = sum(sqdiff) / len(numbers)\n",
        "\n",
        "import math\n",
        "std_deviation = math.sqrt(variance)\n",
        "\n",
        "print(f\"Mean: {mean}\")\n",
        "print(f\"Median: {median}\")\n",
        "print(f\"Mode: {mode}\")\n",
        "print(f\"Variance: {variance}\")\n",
        "print(f\"Standard Deviation: {std_deviation}\")"
      ]
    },
    {
      "cell_type": "markdown",
      "source": [
        "2) Use the lambda and map() to square the numbers in the numbers list and store them in a newly created list known as squared. Then use filter() to create a  new list of all even numbers from the squared list."
      ],
      "metadata": {
        "id": "6guHLnCChWou"
      }
    },
    {
      "cell_type": "code",
      "source": [
        "squared = list(map(lambda x: x ** 2, numbers))\n",
        "even_squared = list(filter(lambda x: x % 2 == 0, squared))\n",
        "print(\"Squared numbers:\", squared)\n",
        "print(\"Even squared numbers:\", even_squared)"
      ],
      "metadata": {
        "id": "hOpI-yHNhaOB",
        "colab": {
          "base_uri": "https://localhost:8080/"
        },
        "outputId": "2f05843d-6ae6-4535-afd1-d596a4b19138"
      },
      "execution_count": 3,
      "outputs": [
        {
          "output_type": "stream",
          "name": "stdout",
          "text": [
            "Squared numbers: [238144, 87616, 139876, 35721, 106276, 52441, 196, 26244, 840889, 605284, 824464, 141376, 321489, 26244, 851929, 16900, 69169, 429025, 332929, 236196, 923521, 933156, 627264, 361, 885481, 521284, 81796, 36481, 19044, 495616, 231361, 52900, 190969, 350464, 59536, 783225, 49, 274576, 264196, 233289, 7921, 606841, 77841, 228484, 34225, 883600, 148225, 1849, 26569, 326041, 751689, 242064, 72361, 529, 633616, 788544, 806404, 525625, 113569, 328329, 140625, 839056, 8100, 552049, 13689, 550564, 891136, 128164, 299209, 950625, 249001, 219961, 519841, 442225, 408321, 4900, 374544, 114244, 537289, 401956, 128164, 274576, 357604, 217156, 484416, 477481, 261121, 202500, 488601, 5776, 46656, 128881, 737881, 568516, 44100, 95481, 555025, 1444, 872356, 292681]\n",
            "Even squared numbers: [238144, 87616, 139876, 106276, 196, 26244, 605284, 824464, 141376, 26244, 16900, 236196, 933156, 627264, 521284, 81796, 19044, 495616, 52900, 350464, 59536, 274576, 264196, 228484, 883600, 242064, 633616, 788544, 806404, 839056, 8100, 550564, 891136, 128164, 4900, 374544, 114244, 401956, 128164, 274576, 357604, 217156, 484416, 202500, 5776, 46656, 568516, 44100, 1444, 872356]\n"
          ]
        }
      ]
    },
    {
      "cell_type": "markdown",
      "source": [
        "3)Sort the below dictionary in descending order of the age of employees."
      ],
      "metadata": {
        "id": "FvDxrP5ghdsx"
      }
    },
    {
      "cell_type": "code",
      "source": [
        "'''\n",
        "Key - Name\n",
        "Value - [Vaccination Status,Age]\n",
        "'''\n",
        "data = {'Ben':['Vaccinated',35],'Luke':['Not Vaccinated',28],'Anakin':['Vaccinated',55],'Leia':['Vaccinated',28],'Han':['Not Vaccinated',60]}\n",
        "\n",
        "saga = dict(sorted(data.items(), key=lambda item: item[1][1], reverse=True))\n",
        "for naam, daak in saga.items():\n",
        "    print(f'{naam}: {daak[1]} years old ({daak[0]})')"
      ],
      "metadata": {
        "id": "Z0r8c-7vhbll",
        "colab": {
          "base_uri": "https://localhost:8080/"
        },
        "outputId": "e3aecf48-51b2-42d4-faf6-cf7b119ea022"
      },
      "execution_count": 4,
      "outputs": [
        {
          "output_type": "stream",
          "name": "stdout",
          "text": [
            "Han: 60 years old (Not Vaccinated)\n",
            "Anakin: 55 years old (Vaccinated)\n",
            "Ben: 35 years old (Vaccinated)\n",
            "Luke: 28 years old (Not Vaccinated)\n",
            "Leia: 28 years old (Vaccinated)\n"
          ]
        }
      ]
    },
    {
      "cell_type": "markdown",
      "source": [
        "4)Using file handling, extract and read data from the data.txt file and find the most common occuring 5 words."
      ],
      "metadata": {
        "id": "AG73HsgLhnzA"
      }
    },
    {
      "cell_type": "code",
      "source": [
        "# refering to the data.text for 5 common words\n",
        "with open('data.txt', 'r') as akshi:\n",
        "    yaho = akshi.read()\n",
        "    import string\n",
        "    translator = str.maketrans('', '', string.punctuation)\n",
        "    yaho= yaho.translate(translator).lower()\n",
        "\n",
        "hike = yaho.split()\n",
        "from collections import Counter\n",
        "mall = Counter(hike)\n",
        "deal =mall.most_common(5)\n",
        "\n",
        "for hike, count in deal:\n",
        "    print(f'{hike}: {count}')"
      ],
      "metadata": {
        "id": "mtalua06htM4",
        "colab": {
          "base_uri": "https://localhost:8080/"
        },
        "outputId": "92cfb233-2d96-419e-de58-340c2519d165"
      },
      "execution_count": 5,
      "outputs": [
        {
          "output_type": "stream",
          "name": "stdout",
          "text": [
            "learning: 14\n",
            "machine: 10\n",
            "of: 8\n",
            "to: 6\n",
            "is: 5\n"
          ]
        }
      ]
    },
    {
      "cell_type": "markdown",
      "source": [
        "### 2)Numpy"
      ],
      "metadata": {
        "id": "5_wRuWXdhw0q"
      }
    },
    {
      "cell_type": "code",
      "source": [
        "# run this cell and then proceed further\n",
        "import numpy as np"
      ],
      "metadata": {
        "id": "Zdlto8Ewh1kX"
      },
      "execution_count": 6,
      "outputs": []
    },
    {
      "cell_type": "markdown",
      "source": [
        "* You will be given few matrices and you have to write a few lines of code which will be resulting the following outputs."
      ],
      "metadata": {
        "id": "rJ1h_olOiFKl"
      }
    },
    {
      "cell_type": "code",
      "source": [
        "mat = np.arange(0,25).reshape(5,5)\n",
        "mat"
      ],
      "metadata": {
        "colab": {
          "base_uri": "https://localhost:8080/"
        },
        "id": "oAi3QDXNiF60",
        "outputId": "191c7860-ee67-4874-cf4e-017da07b7030"
      },
      "execution_count": 7,
      "outputs": [
        {
          "output_type": "execute_result",
          "data": {
            "text/plain": [
              "array([[ 0,  1,  2,  3,  4],\n",
              "       [ 5,  6,  7,  8,  9],\n",
              "       [10, 11, 12, 13, 14],\n",
              "       [15, 16, 17, 18, 19],\n",
              "       [20, 21, 22, 23, 24]])"
            ]
          },
          "metadata": {},
          "execution_count": 7
        }
      ]
    },
    {
      "cell_type": "markdown",
      "source": [
        "1)The given array is above i.e (mat).\n",
        "- You have to write a code such that the output looks like-\n",
        "      array([[ 5,  6,  7,  8,  9],\n",
        "             [10, 11, 12, 13, 14],\n",
        "             [15, 16, 17, 18, 19]])"
      ],
      "metadata": {
        "id": "geUCdUFliQkL"
      }
    },
    {
      "cell_type": "code",
      "source": [
        "import numpy as np\n",
        "mat=np.array([[ 0,  1,  2,  3,  4],\n",
        "       [ 5,  6,  7,  8,  9],\n",
        "       [10, 11, 12, 13, 14],\n",
        "       [15, 16, 17, 18, 19],\n",
        "       [20, 21, 22, 23, 24]])\n",
        "dobby=mat[1:4,:]\n",
        "print(dobby)"
      ],
      "metadata": {
        "id": "bTDB4Fd9iJOL",
        "colab": {
          "base_uri": "https://localhost:8080/"
        },
        "outputId": "f2ad4d3e-c6cd-458d-c024-645fb7c0d7fa"
      },
      "execution_count": 8,
      "outputs": [
        {
          "output_type": "stream",
          "name": "stdout",
          "text": [
            "[[ 5  6  7  8  9]\n",
            " [10 11 12 13 14]\n",
            " [15 16 17 18 19]]\n"
          ]
        }
      ]
    },
    {
      "cell_type": "markdown",
      "source": [
        "2)Convert the array 'x' into a 3x4 matrix"
      ],
      "metadata": {
        "id": "jRlpcSbqiW3q"
      }
    },
    {
      "cell_type": "code",
      "source": [
        "x= np.arange(0,12)\n",
        "x"
      ],
      "metadata": {
        "colab": {
          "base_uri": "https://localhost:8080/"
        },
        "id": "WgOvtSffiYFQ",
        "outputId": "65ce8cd6-d99c-4084-8df7-f2e0b0ed6c79"
      },
      "execution_count": 9,
      "outputs": [
        {
          "output_type": "execute_result",
          "data": {
            "text/plain": [
              "array([ 0,  1,  2,  3,  4,  5,  6,  7,  8,  9, 10, 11])"
            ]
          },
          "metadata": {},
          "execution_count": 9
        }
      ]
    },
    {
      "cell_type": "code",
      "source": [
        "import numpy as np\n",
        "x = np.arange(0,12)\n",
        "luna=x.reshape(3,4)\n",
        "print(luna)"
      ],
      "metadata": {
        "id": "BTOcy1dDiadb",
        "colab": {
          "base_uri": "https://localhost:8080/"
        },
        "outputId": "9afcd1e2-4575-42ee-f5d1-43a14986b01e"
      },
      "execution_count": 10,
      "outputs": [
        {
          "output_type": "stream",
          "name": "stdout",
          "text": [
            "[[ 0  1  2  3]\n",
            " [ 4  5  6  7]\n",
            " [ 8  9 10 11]]\n"
          ]
        }
      ]
    },
    {
      "cell_type": "markdown",
      "source": [
        "3) Find the inverse and transpose of the 3x4 matrix obtained above."
      ],
      "metadata": {
        "id": "fca_Rev1iqAW"
      }
    },
    {
      "cell_type": "code",
      "source": [
        "import numpy as np\n",
        "\n",
        "jiji=np.array([[0,1,2,3],\n",
        "               [4,5,6,7],\n",
        "               [8,9,10,11]])\n",
        "newt=np.zeros((4,4))\n",
        "newt[:3,:4]=jiji\n",
        "dert=np.linalg.det(newt)\n",
        "\n",
        "if dert==0:\n",
        "  print('inverse of matrix does not exist')\n",
        "else:\n",
        "  print('determinant is:',dert)\n",
        "\n",
        "transpose_matrix=jiji.T\n",
        "\n",
        "print('transpose matrix is:')\n",
        "print(transpose_matrix)"
      ],
      "metadata": {
        "id": "9VHUVnnkisaM",
        "colab": {
          "base_uri": "https://localhost:8080/"
        },
        "outputId": "5305152e-2865-409e-ae00-a1edbea31c0e"
      },
      "execution_count": 11,
      "outputs": [
        {
          "output_type": "stream",
          "name": "stdout",
          "text": [
            "inverse of matrix does not exist\n",
            "transpose matrix is:\n",
            "[[ 0  4  8]\n",
            " [ 1  5  9]\n",
            " [ 2  6 10]\n",
            " [ 3  7 11]]\n"
          ]
        }
      ]
    },
    {
      "cell_type": "markdown",
      "source": [
        "4) Write a code to find the position of all zeros present in the matrix 'y"
      ],
      "metadata": {
        "id": "WPzm6b6DixXy"
      }
    },
    {
      "cell_type": "code",
      "source": [
        "y=np.array(([0,5,9,0],[0,0,4,7],[9,3,0,6]))\n",
        "y"
      ],
      "metadata": {
        "colab": {
          "base_uri": "https://localhost:8080/"
        },
        "id": "Etps8BlCiyOA",
        "outputId": "c5dd1a63-379f-42eb-e482-7fa4d1127521"
      },
      "execution_count": 12,
      "outputs": [
        {
          "output_type": "execute_result",
          "data": {
            "text/plain": [
              "array([[0, 5, 9, 0],\n",
              "       [0, 0, 4, 7],\n",
              "       [9, 3, 0, 6]])"
            ]
          },
          "metadata": {},
          "execution_count": 12
        }
      ]
    },
    {
      "cell_type": "code",
      "source": [
        "import numpy as np\n",
        "def find_zeros_positions(black):\n",
        "    hagrid = np.argwhere(black == 0)\n",
        "    return hagrid\n",
        "\n",
        "sirius = find_zeros_positions(y)\n",
        "\n",
        "print(\"Positions of zeros in the matrix:\")\n",
        "for position in sirius:\n",
        "    print(tuple(position))"
      ],
      "metadata": {
        "id": "Mr6RH6Hci0kj",
        "colab": {
          "base_uri": "https://localhost:8080/"
        },
        "outputId": "637a8da9-bebe-44c0-a9e6-7d98bf472474"
      },
      "execution_count": 13,
      "outputs": [
        {
          "output_type": "stream",
          "name": "stdout",
          "text": [
            "Positions of zeros in the matrix:\n",
            "(0, 0)\n",
            "(0, 3)\n",
            "(1, 0)\n",
            "(1, 1)\n",
            "(2, 2)\n"
          ]
        }
      ]
    },
    {
      "cell_type": "markdown",
      "source": [
        "### 3)Pandas"
      ],
      "metadata": {
        "id": "SL0mXCGmjFi0"
      }
    },
    {
      "cell_type": "code",
      "source": [
        "# run this cell and then proceed further\n",
        "import pandas as pd"
      ],
      "metadata": {
        "id": "_4qmaLLyjMJ7"
      },
      "execution_count": 14,
      "outputs": []
    },
    {
      "cell_type": "markdown",
      "source": [
        "#### Read the data from the csv named \"bmi.csv\" and complete the task that follows.\n",
        "1)Your first task is to create a new column in the dataframe named \"BMI\" index, which reads data from the \"Weight\" and \"Height\" Column, and calculates the BMI based on this. Display the top 10 rows of this dataframe after adding the new column.\n"
      ],
      "metadata": {
        "id": "9PqlduJhjUfT"
      }
    },
    {
      "cell_type": "code",
      "source": [
        "import pandas as pd\n",
        "snap = pd.read_csv(\"bmi.csv\")\n",
        "snap['BMI']=snap['weight(in kg)']/(snap['height(in m)']**2)\n",
        "print(snap.head(10))"
      ],
      "metadata": {
        "id": "kyQ_0xz3jVWy",
        "colab": {
          "base_uri": "https://localhost:8080/"
        },
        "outputId": "7f465f28-e035-46d2-d14f-34eeb7c6fc47"
      },
      "execution_count": 15,
      "outputs": [
        {
          "output_type": "stream",
          "name": "stdout",
          "text": [
            "  animal  age  weight(in kg)  height(in m)        BMI\n",
            "0    cat    3             14           1.3   8.284024\n",
            "1    dog    9             11           1.2   7.638889\n",
            "2    dog    1              5           1.2   3.472222\n",
            "3    cat   10              9           0.9  11.111111\n",
            "4    cat    8              5           1.2   3.472222\n",
            "5    cat    2             11           1.1   9.090909\n",
            "6    dog   10             14           1.0  14.000000\n",
            "7    dog    8              9           1.0   9.000000\n",
            "8    cat   10             12           0.8  18.750000\n",
            "9    cat    6              9           0.7  18.367347\n"
          ]
        }
      ]
    },
    {
      "cell_type": "markdown",
      "source": [
        "2)From the dataframe, find out the count, mean ,standard deviation ,datatype, and number of non-null objects of each column."
      ],
      "metadata": {
        "id": "grGeD1G8jXbF"
      }
    },
    {
      "cell_type": "code",
      "source": [
        "import pandas as pd\n",
        "\n",
        "snap = pd.read_csv(\"bmi.csv\")\n",
        "snap['BMI'] = snap['weight(in kg)'] / (snap['height(in m)'] ** 2)\n",
        "status = snap.describe()\n",
        "peter = snap.info()\n",
        "print(\"count, mean & standard deviation is:\")\n",
        "print(status)\n",
        "print(\"data types and non-null counts for all columns:\\n\")\n",
        "print(peter)"
      ],
      "metadata": {
        "id": "9EVPZukBjZ9R",
        "colab": {
          "base_uri": "https://localhost:8080/"
        },
        "outputId": "87277c91-d5bb-4ccd-d9ee-21e5780cd9e0"
      },
      "execution_count": 16,
      "outputs": [
        {
          "output_type": "stream",
          "name": "stdout",
          "text": [
            "<class 'pandas.core.frame.DataFrame'>\n",
            "RangeIndex: 20 entries, 0 to 19\n",
            "Data columns (total 5 columns):\n",
            " #   Column         Non-Null Count  Dtype  \n",
            "---  ------         --------------  -----  \n",
            " 0   animal         20 non-null     object \n",
            " 1   age            20 non-null     int64  \n",
            " 2   weight(in kg)  20 non-null     int64  \n",
            " 3   height(in m)   20 non-null     float64\n",
            " 4   BMI            20 non-null     float64\n",
            "dtypes: float64(2), int64(2), object(1)\n",
            "memory usage: 928.0+ bytes\n",
            "count, mean & standard deviation is:\n",
            "             age  weight(in kg)  height(in m)        BMI\n",
            "count  20.000000      20.000000     20.000000  20.000000\n",
            "mean    6.600000       9.050000      0.985000  10.586173\n",
            "std     2.962929       2.981963      0.213431   5.250493\n",
            "min     1.000000       5.000000      0.700000   3.472222\n",
            "25%     4.500000       6.750000      0.800000   6.129630\n",
            "50%     7.500000       9.000000      1.000000  10.101010\n",
            "75%     9.000000      11.250000      1.200000  14.071429\n",
            "max    10.000000      14.000000      1.300000  20.408163\n",
            "data types and non-null counts for all columns:\n",
            "\n",
            "None\n"
          ]
        }
      ]
    },
    {
      "cell_type": "markdown",
      "source": [
        "3)In the column \"animal\" find the number ,of unique values and the count of each of the unique values."
      ],
      "metadata": {
        "id": "rVZiEFtmjcNZ"
      }
    },
    {
      "cell_type": "code",
      "source": [
        "import pandas as pd\n",
        "\n",
        "snap= pd.read_csv(\"bmi.csv\")\n",
        "snap['BMI'] = snap['weight(in kg)'] / (snap['height(in m)'] ** 2)\n",
        "\n",
        "tonks = snap['animal'].nunique()\n",
        "value_counts =snap['animal'].value_counts()\n",
        "\n",
        "print(\"number of unique values in 'animal' column:\", tonks)\n",
        "print(\"Count of Each Unique Value in 'animal' column:\\n\")\n",
        "print(value_counts)"
      ],
      "metadata": {
        "id": "S4noFEWCjeaG",
        "colab": {
          "base_uri": "https://localhost:8080/"
        },
        "outputId": "465a3913-fd27-4b5a-df9d-088388e83ede"
      },
      "execution_count": 17,
      "outputs": [
        {
          "output_type": "stream",
          "name": "stdout",
          "text": [
            "number of unique values in 'animal' column: 2\n",
            "Count of Each Unique Value in 'animal' column:\n",
            "\n",
            "cat    13\n",
            "dog     7\n",
            "Name: animal, dtype: int64\n"
          ]
        }
      ]
    },
    {
      "cell_type": "markdown",
      "source": [
        "4)Scale the data of columns \"weight\" and \"height\" in such a way that all the values lie between 0 and 1."
      ],
      "metadata": {
        "id": "kgTiTkNVjgMB"
      }
    },
    {
      "cell_type": "code",
      "source": [
        "import pandas as pd\n",
        "from sklearn.preprocessing import MinMaxScaler\n",
        "\n",
        "snap = pd.read_csv(\"bmi.csv\")\n",
        "\n",
        "potter = MinMaxScaler()\n",
        "snap[['weight(in kg)', 'height(in m)']] = potter.fit_transform(snap[['weight(in kg)', 'height(in m)']])\n",
        "\n",
        "print(snap.head(10))"
      ],
      "metadata": {
        "id": "_go4SqBjjjrH",
        "colab": {
          "base_uri": "https://localhost:8080/"
        },
        "outputId": "d8e8f056-245d-4a00-b666-d3fdffea9b4a"
      },
      "execution_count": 18,
      "outputs": [
        {
          "output_type": "stream",
          "name": "stdout",
          "text": [
            "  animal  age  weight(in kg)  height(in m)\n",
            "0    cat    3       1.000000      1.000000\n",
            "1    dog    9       0.666667      0.833333\n",
            "2    dog    1       0.000000      0.833333\n",
            "3    cat   10       0.444444      0.333333\n",
            "4    cat    8       0.000000      0.833333\n",
            "5    cat    2       0.666667      0.666667\n",
            "6    dog   10       1.000000      0.500000\n",
            "7    dog    8       0.444444      0.500000\n",
            "8    cat   10       0.777778      0.166667\n",
            "9    cat    6       0.444444      0.000000\n"
          ]
        }
      ]
    },
    {
      "cell_type": "markdown",
      "source": [
        "5)Calculate the mean \"height\", \"weight\" and \"age\" of each different animal.\n",
        "Hint: groupby()"
      ],
      "metadata": {
        "id": "DqzF-0i8jlQq"
      }
    },
    {
      "cell_type": "code",
      "source": [
        "import pandas as pd\n",
        "snap = pd.read_csv(\"bmi.csv\")\n",
        "\n",
        "means = snap.groupby('animal').mean()[['height(in m)', 'weight(in kg)', 'age']]\n",
        "means = means.rename(columns={'height(in m)': 'mean height', 'weight(in kg)': 'mean weight', 'age': 'mean age'})\n",
        "\n",
        "print(means)"
      ],
      "metadata": {
        "id": "g6fYK6UNjpD2",
        "colab": {
          "base_uri": "https://localhost:8080/"
        },
        "outputId": "be45ab47-77f9-4840-d9f4-abbffc7504c3"
      },
      "execution_count": 19,
      "outputs": [
        {
          "output_type": "stream",
          "name": "stdout",
          "text": [
            "        mean height  mean weight  mean age\n",
            "animal                                    \n",
            "cat        0.938462     8.923077  6.769231\n",
            "dog        1.071429     9.285714  6.285714\n"
          ]
        }
      ]
    },
    {
      "cell_type": "markdown",
      "source": [
        "#### Read the data from the csv named \"creditcard.csv\". And perform the following tasks."
      ],
      "metadata": {
        "id": "BqubFmedjqfT"
      }
    },
    {
      "cell_type": "markdown",
      "source": [
        "6)Find the number of males in the age range of 30 to 60 (including both 30 and 60 here), who have the occupation of \"Self_Employed\""
      ],
      "metadata": {
        "id": "ruhz2nbajsvq"
      }
    },
    {
      "cell_type": "code",
      "source": [
        "import pandas as pd\n",
        "\n",
        "mool = pd.read_csv(\"creditcard.csv\")\n",
        "specify = mool[(mool['Age'] >= 30) & (mool['Age'] <= 60) & (mool['Occupation'] == 'Self_Employed') & (mool['Gender'] == 'Male')]\n",
        "evan = len(specify)\n",
        "\n",
        "print(\"Number of males in the age range of 30 to 60 those are 'Self_Employed':\", evan)"
      ],
      "metadata": {
        "id": "vZp292ngjwRA",
        "colab": {
          "base_uri": "https://localhost:8080/"
        },
        "outputId": "5b1f4d8f-4085-4b45-821a-4bb3427f64ae"
      },
      "execution_count": 20,
      "outputs": [
        {
          "output_type": "stream",
          "name": "stdout",
          "text": [
            "Number of males in the age range of 30 to 60 those are 'Self_Employed': 56231\n"
          ]
        }
      ]
    },
    {
      "cell_type": "markdown",
      "source": [
        "7)Find the number of males and females who were active in the last 3 months (if the Is_Active column shows \"Yes\", that means that customer was active in the last 3 months, else he/she wasn't)."
      ],
      "metadata": {
        "id": "YXigBfzCjyek"
      }
    },
    {
      "cell_type": "code",
      "source": [
        "import pandas as pd\n",
        "mool = pd.read_csv(\"creditcard.csv\")\n",
        "active = mool[mool['Is_Active'] == 'Yes']\n",
        "mem_count = active['Gender'].value_counts()\n",
        "print(\"number of males active in the last 3 months:\", mem_count.get(\"Male\", 0))\n",
        "print(\"number of females active in the last 3 months:\", mem_count.get(\"Female\", 0))"
      ],
      "metadata": {
        "id": "nEjjNc9Kj0l3",
        "colab": {
          "base_uri": "https://localhost:8080/"
        },
        "outputId": "00ae0f31-784f-40bc-8e47-899dea9bf75e"
      },
      "execution_count": 21,
      "outputs": [
        {
          "output_type": "stream",
          "name": "stdout",
          "text": [
            "number of males active in the last 3 months: 55948\n",
            "number of females active in the last 3 months: 39487\n"
          ]
        }
      ]
    },
    {
      "cell_type": "markdown",
      "source": [
        "8)Find the percentage of null values in the column \"Credit_Product\", and replace them all with the value which is lesser among \"yes\" or \"no\" in the column."
      ],
      "metadata": {
        "id": "vrhNfRr_j3jx"
      }
    },
    {
      "cell_type": "code",
      "source": [
        "import pandas as pd\n",
        "\n",
        "mool = pd.read_csv(\"creditcard.csv\")\n",
        "null_percent = (mool['Credit_Product'].isnull().sum() / len(mool)) * 100\n",
        "argus = mool['Credit_Product'].eq('yes').sum()\n",
        "count_no = mool['Credit_Product'].eq('no').sum()\n",
        "replace_value = 'yes' if argus <= count_no else 'no'\n",
        "mool['Credit_Product'].fillna(replace_value, inplace=True)\n",
        "print(\"Percentage of null values in 'Credit_Product' column:\", null_percent, \"%\")\n",
        "print(\"Replacing null values with:\", replace_value)"
      ],
      "metadata": {
        "id": "L4m4kVBej6uj",
        "colab": {
          "base_uri": "https://localhost:8080/"
        },
        "outputId": "f71523d7-9555-414e-e33a-a28631e27191"
      },
      "execution_count": 22,
      "outputs": [
        {
          "output_type": "stream",
          "name": "stdout",
          "text": [
            "Percentage of null values in 'Credit_Product' column: 11.9340726421813 %\n",
            "Replacing null values with: yes\n"
          ]
        }
      ]
    },
    {
      "cell_type": "markdown",
      "source": [
        "# <center>CONGRATULATIONS!! YOU FINALLY COMPLETED THE TASK-1.WE WILL BE COMING WITH EVEN MORE INTERESTING CONCEPTS IN THE NEXT TASK.\n",
        "#    <center>TILL THEN **HAPPY MACHINE LEARNING!!.**</center>"
      ],
      "metadata": {
        "id": "-9piXJcOj82_"
      }
    }
  ]
}